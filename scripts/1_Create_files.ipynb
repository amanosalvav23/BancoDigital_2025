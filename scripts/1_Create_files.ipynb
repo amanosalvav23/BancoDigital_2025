{
 "cells": [
  {
   "cell_type": "markdown",
   "id": "fbab46fd",
   "metadata": {},
   "source": [
    "1. Creación carpetas\n",
    "Librerías necesarias\n",
    "Para crear carpetas o directorios directamente desde Python, no necesitas instalar nada adicional.\n",
    "Usarás librerías nativas del sistema operativo:\n",
    "• os → para manejar rutas, crear carpetas, listar archivos, etc.\n",
    "• pathlib → más moderna, limpia y recomendada para proyectos nuevos (parte de la librería\n",
    "estándar también).\n",
    "Crear carpeta “data” automáticamente\n",
    "✅ Opción 1: usando os"
   ]
  },
  {
   "cell_type": "code",
   "execution_count": 1,
   "id": "3727b6b3",
   "metadata": {},
   "outputs": [
    {
     "name": "stdout",
     "output_type": "stream",
     "text": [
      "Carpeta creada en: /Users/aldairmanosalva/Documents/BancoDigital_2025/scripts/../data\n"
     ]
    }
   ],
   "source": [
    "import os\n",
    "# Ruta de la carpeta \"data\" dentro del proyecto actual\n",
    "ruta_carpeta = os.path.join(os.getcwd(), \"../data\")\n",
    "# Crear carpeta si no existe\n",
    "if not os.path.exists(ruta_carpeta):\n",
    "\tos.makedirs(ruta_carpeta)\n",
    "\tprint(f\"Carpeta creada en: {ruta_carpeta}\")\n",
    "else:\n",
    "\tprint(\"La carpeta 'data' ya existe.\")"
   ]
  },
  {
   "cell_type": "code",
   "execution_count": 2,
   "id": "9ee75a3d",
   "metadata": {},
   "outputs": [
    {
     "name": "stdout",
     "output_type": "stream",
     "text": [
      "✅ Carpeta 'data' lista en /Users/aldairmanosalva/Documents/BancoDigital_2025/scripts/../data\n",
      "✅ Carpeta 'database' lista en /Users/aldairmanosalva/Documents/BancoDigital_2025/scripts/../database\n",
      "✅ Carpeta 'scripts' lista en /Users/aldairmanosalva/Documents/BancoDigital_2025/scripts/../scripts\n",
      "✅ Carpeta 'docs' lista en /Users/aldairmanosalva/Documents/BancoDigital_2025/scripts/../docs\n"
     ]
    }
   ],
   "source": [
    "from pathlib import Path\n",
    "# Rutas de carpetas del proyecto\n",
    "carpetas = [\"data\", \"database\", \"scripts\", \"docs\"]\n",
    "for carpeta in carpetas:\n",
    "    ruta = Path.cwd() / f\"../{carpeta}\"\n",
    "    ruta.mkdir(parents=True, exist_ok=True)\n",
    "    print(f\"✅ Carpeta '{carpeta}' lista en {ruta}\")"
   ]
  }
 ],
 "metadata": {
  "kernelspec": {
   "display_name": "myenv",
   "language": "python",
   "name": "python3"
  },
  "language_info": {
   "codemirror_mode": {
    "name": "ipython",
    "version": 3
   },
   "file_extension": ".py",
   "mimetype": "text/x-python",
   "name": "python",
   "nbconvert_exporter": "python",
   "pygments_lexer": "ipython3",
   "version": "3.13.7"
  }
 },
 "nbformat": 4,
 "nbformat_minor": 5
}
